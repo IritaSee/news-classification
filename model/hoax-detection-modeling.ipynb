{
  "nbformat": 4,
  "nbformat_minor": 0,
  "metadata": {
    "colab": {
      "provenance": [],
      "gpuType": "T4"
    },
    "kernelspec": {
      "name": "python3",
      "display_name": "Python 3"
    },
    "language_info": {
      "name": "python"
    },
    "accelerator": "GPU",
    "widgets": {
      "application/vnd.jupyter.widget-state+json": {
        "10d09426735c4695adda01dfee7ac9b8": {
          "model_module": "@jupyter-widgets/controls",
          "model_name": "HBoxModel",
          "model_module_version": "1.5.0",
          "state": {
            "_dom_classes": [],
            "_model_module": "@jupyter-widgets/controls",
            "_model_module_version": "1.5.0",
            "_model_name": "HBoxModel",
            "_view_count": null,
            "_view_module": "@jupyter-widgets/controls",
            "_view_module_version": "1.5.0",
            "_view_name": "HBoxView",
            "box_style": "",
            "children": [
              "IPY_MODEL_ed12cb25c3574b41afcba4ce9be36839",
              "IPY_MODEL_13f48b7bf4eb4c8e90938f5fb9e4a664",
              "IPY_MODEL_d6f525ec226844209b82e0d500e573c1"
            ],
            "layout": "IPY_MODEL_c96ac5f70749450789f5c448ea4936f8"
          }
        },
        "ed12cb25c3574b41afcba4ce9be36839": {
          "model_module": "@jupyter-widgets/controls",
          "model_name": "HTMLModel",
          "model_module_version": "1.5.0",
          "state": {
            "_dom_classes": [],
            "_model_module": "@jupyter-widgets/controls",
            "_model_module_version": "1.5.0",
            "_model_name": "HTMLModel",
            "_view_count": null,
            "_view_module": "@jupyter-widgets/controls",
            "_view_module_version": "1.5.0",
            "_view_name": "HTMLView",
            "description": "",
            "description_tooltip": null,
            "layout": "IPY_MODEL_3ca8f3381c38496982209f0d46ba5dbb",
            "placeholder": "​",
            "style": "IPY_MODEL_6c9a754e60e34c90be696f70b7a6db70",
            "value": "Pandas Apply: 100%"
          }
        },
        "13f48b7bf4eb4c8e90938f5fb9e4a664": {
          "model_module": "@jupyter-widgets/controls",
          "model_name": "FloatProgressModel",
          "model_module_version": "1.5.0",
          "state": {
            "_dom_classes": [],
            "_model_module": "@jupyter-widgets/controls",
            "_model_module_version": "1.5.0",
            "_model_name": "FloatProgressModel",
            "_view_count": null,
            "_view_module": "@jupyter-widgets/controls",
            "_view_module_version": "1.5.0",
            "_view_name": "ProgressView",
            "bar_style": "success",
            "description": "",
            "description_tooltip": null,
            "layout": "IPY_MODEL_3b82672e82434a91933319faceb75b78",
            "max": 7329,
            "min": 0,
            "orientation": "horizontal",
            "style": "IPY_MODEL_f655bd5446dc465fa492d03e49b0d7f6",
            "value": 7329
          }
        },
        "d6f525ec226844209b82e0d500e573c1": {
          "model_module": "@jupyter-widgets/controls",
          "model_name": "HTMLModel",
          "model_module_version": "1.5.0",
          "state": {
            "_dom_classes": [],
            "_model_module": "@jupyter-widgets/controls",
            "_model_module_version": "1.5.0",
            "_model_name": "HTMLModel",
            "_view_count": null,
            "_view_module": "@jupyter-widgets/controls",
            "_view_module_version": "1.5.0",
            "_view_name": "HTMLView",
            "description": "",
            "description_tooltip": null,
            "layout": "IPY_MODEL_d6ef9d037551413aad265d06a85be864",
            "placeholder": "​",
            "style": "IPY_MODEL_37ea54c2c3824ca58666c859576613c3",
            "value": " 7329/7329 [40:57&lt;00:00,  4.72it/s]"
          }
        },
        "c96ac5f70749450789f5c448ea4936f8": {
          "model_module": "@jupyter-widgets/base",
          "model_name": "LayoutModel",
          "model_module_version": "1.2.0",
          "state": {
            "_model_module": "@jupyter-widgets/base",
            "_model_module_version": "1.2.0",
            "_model_name": "LayoutModel",
            "_view_count": null,
            "_view_module": "@jupyter-widgets/base",
            "_view_module_version": "1.2.0",
            "_view_name": "LayoutView",
            "align_content": null,
            "align_items": null,
            "align_self": null,
            "border": null,
            "bottom": null,
            "display": null,
            "flex": null,
            "flex_flow": null,
            "grid_area": null,
            "grid_auto_columns": null,
            "grid_auto_flow": null,
            "grid_auto_rows": null,
            "grid_column": null,
            "grid_gap": null,
            "grid_row": null,
            "grid_template_areas": null,
            "grid_template_columns": null,
            "grid_template_rows": null,
            "height": null,
            "justify_content": null,
            "justify_items": null,
            "left": null,
            "margin": null,
            "max_height": null,
            "max_width": null,
            "min_height": null,
            "min_width": null,
            "object_fit": null,
            "object_position": null,
            "order": null,
            "overflow": null,
            "overflow_x": null,
            "overflow_y": null,
            "padding": null,
            "right": null,
            "top": null,
            "visibility": null,
            "width": null
          }
        },
        "3ca8f3381c38496982209f0d46ba5dbb": {
          "model_module": "@jupyter-widgets/base",
          "model_name": "LayoutModel",
          "model_module_version": "1.2.0",
          "state": {
            "_model_module": "@jupyter-widgets/base",
            "_model_module_version": "1.2.0",
            "_model_name": "LayoutModel",
            "_view_count": null,
            "_view_module": "@jupyter-widgets/base",
            "_view_module_version": "1.2.0",
            "_view_name": "LayoutView",
            "align_content": null,
            "align_items": null,
            "align_self": null,
            "border": null,
            "bottom": null,
            "display": null,
            "flex": null,
            "flex_flow": null,
            "grid_area": null,
            "grid_auto_columns": null,
            "grid_auto_flow": null,
            "grid_auto_rows": null,
            "grid_column": null,
            "grid_gap": null,
            "grid_row": null,
            "grid_template_areas": null,
            "grid_template_columns": null,
            "grid_template_rows": null,
            "height": null,
            "justify_content": null,
            "justify_items": null,
            "left": null,
            "margin": null,
            "max_height": null,
            "max_width": null,
            "min_height": null,
            "min_width": null,
            "object_fit": null,
            "object_position": null,
            "order": null,
            "overflow": null,
            "overflow_x": null,
            "overflow_y": null,
            "padding": null,
            "right": null,
            "top": null,
            "visibility": null,
            "width": null
          }
        },
        "6c9a754e60e34c90be696f70b7a6db70": {
          "model_module": "@jupyter-widgets/controls",
          "model_name": "DescriptionStyleModel",
          "model_module_version": "1.5.0",
          "state": {
            "_model_module": "@jupyter-widgets/controls",
            "_model_module_version": "1.5.0",
            "_model_name": "DescriptionStyleModel",
            "_view_count": null,
            "_view_module": "@jupyter-widgets/base",
            "_view_module_version": "1.2.0",
            "_view_name": "StyleView",
            "description_width": ""
          }
        },
        "3b82672e82434a91933319faceb75b78": {
          "model_module": "@jupyter-widgets/base",
          "model_name": "LayoutModel",
          "model_module_version": "1.2.0",
          "state": {
            "_model_module": "@jupyter-widgets/base",
            "_model_module_version": "1.2.0",
            "_model_name": "LayoutModel",
            "_view_count": null,
            "_view_module": "@jupyter-widgets/base",
            "_view_module_version": "1.2.0",
            "_view_name": "LayoutView",
            "align_content": null,
            "align_items": null,
            "align_self": null,
            "border": null,
            "bottom": null,
            "display": null,
            "flex": null,
            "flex_flow": null,
            "grid_area": null,
            "grid_auto_columns": null,
            "grid_auto_flow": null,
            "grid_auto_rows": null,
            "grid_column": null,
            "grid_gap": null,
            "grid_row": null,
            "grid_template_areas": null,
            "grid_template_columns": null,
            "grid_template_rows": null,
            "height": null,
            "justify_content": null,
            "justify_items": null,
            "left": null,
            "margin": null,
            "max_height": null,
            "max_width": null,
            "min_height": null,
            "min_width": null,
            "object_fit": null,
            "object_position": null,
            "order": null,
            "overflow": null,
            "overflow_x": null,
            "overflow_y": null,
            "padding": null,
            "right": null,
            "top": null,
            "visibility": null,
            "width": null
          }
        },
        "f655bd5446dc465fa492d03e49b0d7f6": {
          "model_module": "@jupyter-widgets/controls",
          "model_name": "ProgressStyleModel",
          "model_module_version": "1.5.0",
          "state": {
            "_model_module": "@jupyter-widgets/controls",
            "_model_module_version": "1.5.0",
            "_model_name": "ProgressStyleModel",
            "_view_count": null,
            "_view_module": "@jupyter-widgets/base",
            "_view_module_version": "1.2.0",
            "_view_name": "StyleView",
            "bar_color": null,
            "description_width": ""
          }
        },
        "d6ef9d037551413aad265d06a85be864": {
          "model_module": "@jupyter-widgets/base",
          "model_name": "LayoutModel",
          "model_module_version": "1.2.0",
          "state": {
            "_model_module": "@jupyter-widgets/base",
            "_model_module_version": "1.2.0",
            "_model_name": "LayoutModel",
            "_view_count": null,
            "_view_module": "@jupyter-widgets/base",
            "_view_module_version": "1.2.0",
            "_view_name": "LayoutView",
            "align_content": null,
            "align_items": null,
            "align_self": null,
            "border": null,
            "bottom": null,
            "display": null,
            "flex": null,
            "flex_flow": null,
            "grid_area": null,
            "grid_auto_columns": null,
            "grid_auto_flow": null,
            "grid_auto_rows": null,
            "grid_column": null,
            "grid_gap": null,
            "grid_row": null,
            "grid_template_areas": null,
            "grid_template_columns": null,
            "grid_template_rows": null,
            "height": null,
            "justify_content": null,
            "justify_items": null,
            "left": null,
            "margin": null,
            "max_height": null,
            "max_width": null,
            "min_height": null,
            "min_width": null,
            "object_fit": null,
            "object_position": null,
            "order": null,
            "overflow": null,
            "overflow_x": null,
            "overflow_y": null,
            "padding": null,
            "right": null,
            "top": null,
            "visibility": null,
            "width": null
          }
        },
        "37ea54c2c3824ca58666c859576613c3": {
          "model_module": "@jupyter-widgets/controls",
          "model_name": "DescriptionStyleModel",
          "model_module_version": "1.5.0",
          "state": {
            "_model_module": "@jupyter-widgets/controls",
            "_model_module_version": "1.5.0",
            "_model_name": "DescriptionStyleModel",
            "_view_count": null,
            "_view_module": "@jupyter-widgets/base",
            "_view_module_version": "1.2.0",
            "_view_name": "StyleView",
            "description_width": ""
          }
        }
      }
    }
  },
  "cells": [
    {
      "cell_type": "markdown",
      "source": [
        "# Data Preprocessing"
      ],
      "metadata": {
        "id": "eKWalK0zN5_H"
      }
    },
    {
      "cell_type": "markdown",
      "source": [
        "## Install library"
      ],
      "metadata": {
        "id": "5FMkqLveTGLB"
      }
    },
    {
      "cell_type": "code",
      "execution_count": 1,
      "metadata": {
        "colab": {
          "base_uri": "https://localhost:8080/"
        },
        "id": "UrxfAPziNqmX",
        "outputId": "5760f9a2-5707-4eb8-cfe0-011ba32eabc3"
      },
      "outputs": [
        {
          "output_type": "stream",
          "name": "stdout",
          "text": [
            "Requirement already satisfied: gdown in /usr/local/lib/python3.10/dist-packages (5.1.0)\n",
            "Requirement already satisfied: beautifulsoup4 in /usr/local/lib/python3.10/dist-packages (from gdown) (4.12.3)\n",
            "Requirement already satisfied: filelock in /usr/local/lib/python3.10/dist-packages (from gdown) (3.14.0)\n",
            "Requirement already satisfied: requests[socks] in /usr/local/lib/python3.10/dist-packages (from gdown) (2.31.0)\n",
            "Requirement already satisfied: tqdm in /usr/local/lib/python3.10/dist-packages (from gdown) (4.66.4)\n",
            "Requirement already satisfied: soupsieve>1.2 in /usr/local/lib/python3.10/dist-packages (from beautifulsoup4->gdown) (2.5)\n",
            "Requirement already satisfied: charset-normalizer<4,>=2 in /usr/local/lib/python3.10/dist-packages (from requests[socks]->gdown) (3.3.2)\n",
            "Requirement already satisfied: idna<4,>=2.5 in /usr/local/lib/python3.10/dist-packages (from requests[socks]->gdown) (3.7)\n",
            "Requirement already satisfied: urllib3<3,>=1.21.1 in /usr/local/lib/python3.10/dist-packages (from requests[socks]->gdown) (2.0.7)\n",
            "Requirement already satisfied: certifi>=2017.4.17 in /usr/local/lib/python3.10/dist-packages (from requests[socks]->gdown) (2024.2.2)\n",
            "Requirement already satisfied: PySocks!=1.5.7,>=1.5.6 in /usr/local/lib/python3.10/dist-packages (from requests[socks]->gdown) (1.7.1)\n",
            "Collecting sastrawi\n",
            "  Downloading Sastrawi-1.0.1-py2.py3-none-any.whl (209 kB)\n",
            "\u001b[2K     \u001b[90m━━━━━━━━━━━━━━━━━━━━━━━━━━━━━━━━━━━━━━━━\u001b[0m \u001b[32m209.7/209.7 kB\u001b[0m \u001b[31m1.6 MB/s\u001b[0m eta \u001b[36m0:00:00\u001b[0m\n",
            "\u001b[?25hInstalling collected packages: sastrawi\n",
            "Successfully installed sastrawi-1.0.1\n",
            "Collecting swifter\n",
            "  Downloading swifter-1.4.0.tar.gz (1.2 MB)\n",
            "\u001b[2K     \u001b[90m━━━━━━━━━━━━━━━━━━━━━━━━━━━━━━━━━━━━━━━━\u001b[0m \u001b[32m1.2/1.2 MB\u001b[0m \u001b[31m6.4 MB/s\u001b[0m eta \u001b[36m0:00:00\u001b[0m\n",
            "\u001b[?25h  Preparing metadata (setup.py) ... \u001b[?25l\u001b[?25hdone\n",
            "Requirement already satisfied: pandas>=1.0.0 in /usr/local/lib/python3.10/dist-packages (from swifter) (2.0.3)\n",
            "Requirement already satisfied: psutil>=5.6.6 in /usr/local/lib/python3.10/dist-packages (from swifter) (5.9.5)\n",
            "Requirement already satisfied: dask[dataframe]>=2.10.0 in /usr/local/lib/python3.10/dist-packages (from swifter) (2023.8.1)\n",
            "Requirement already satisfied: tqdm>=4.33.0 in /usr/local/lib/python3.10/dist-packages (from swifter) (4.66.4)\n",
            "Requirement already satisfied: click>=8.0 in /usr/local/lib/python3.10/dist-packages (from dask[dataframe]>=2.10.0->swifter) (8.1.7)\n",
            "Requirement already satisfied: cloudpickle>=1.5.0 in /usr/local/lib/python3.10/dist-packages (from dask[dataframe]>=2.10.0->swifter) (2.2.1)\n",
            "Requirement already satisfied: fsspec>=2021.09.0 in /usr/local/lib/python3.10/dist-packages (from dask[dataframe]>=2.10.0->swifter) (2023.6.0)\n",
            "Requirement already satisfied: packaging>=20.0 in /usr/local/lib/python3.10/dist-packages (from dask[dataframe]>=2.10.0->swifter) (24.0)\n",
            "Requirement already satisfied: partd>=1.2.0 in /usr/local/lib/python3.10/dist-packages (from dask[dataframe]>=2.10.0->swifter) (1.4.2)\n",
            "Requirement already satisfied: pyyaml>=5.3.1 in /usr/local/lib/python3.10/dist-packages (from dask[dataframe]>=2.10.0->swifter) (6.0.1)\n",
            "Requirement already satisfied: toolz>=0.10.0 in /usr/local/lib/python3.10/dist-packages (from dask[dataframe]>=2.10.0->swifter) (0.12.1)\n",
            "Requirement already satisfied: importlib-metadata>=4.13.0 in /usr/local/lib/python3.10/dist-packages (from dask[dataframe]>=2.10.0->swifter) (7.1.0)\n",
            "Requirement already satisfied: python-dateutil>=2.8.2 in /usr/local/lib/python3.10/dist-packages (from pandas>=1.0.0->swifter) (2.8.2)\n",
            "Requirement already satisfied: pytz>=2020.1 in /usr/local/lib/python3.10/dist-packages (from pandas>=1.0.0->swifter) (2023.4)\n",
            "Requirement already satisfied: tzdata>=2022.1 in /usr/local/lib/python3.10/dist-packages (from pandas>=1.0.0->swifter) (2024.1)\n",
            "Requirement already satisfied: numpy>=1.21.0 in /usr/local/lib/python3.10/dist-packages (from pandas>=1.0.0->swifter) (1.25.2)\n",
            "Requirement already satisfied: zipp>=0.5 in /usr/local/lib/python3.10/dist-packages (from importlib-metadata>=4.13.0->dask[dataframe]>=2.10.0->swifter) (3.18.2)\n",
            "Requirement already satisfied: locket in /usr/local/lib/python3.10/dist-packages (from partd>=1.2.0->dask[dataframe]>=2.10.0->swifter) (1.0.0)\n",
            "Requirement already satisfied: six>=1.5 in /usr/local/lib/python3.10/dist-packages (from python-dateutil>=2.8.2->pandas>=1.0.0->swifter) (1.16.0)\n",
            "Building wheels for collected packages: swifter\n",
            "  Building wheel for swifter (setup.py) ... \u001b[?25l\u001b[?25hdone\n",
            "  Created wheel for swifter: filename=swifter-1.4.0-py3-none-any.whl size=16507 sha256=dda8e12eb8cebd596d996a1422bfecf7c8e4070b466e419ae7f8f16d6e0346f9\n",
            "  Stored in directory: /root/.cache/pip/wheels/e4/cf/51/0904952972ee2c7aa3709437065278dc534ec1b8d2ad41b443\n",
            "Successfully built swifter\n",
            "Installing collected packages: swifter\n",
            "Successfully installed swifter-1.4.0\n",
            "Requirement already satisfied: tqdm in /usr/local/lib/python3.10/dist-packages (4.66.4)\n"
          ]
        }
      ],
      "source": [
        "!pip install gdown\n",
        "!pip install sastrawi\n",
        "!pip install swifter\n",
        "!pip install tqdm"
      ]
    },
    {
      "cell_type": "markdown",
      "source": [
        "## Import library"
      ],
      "metadata": {
        "id": "GIdFNI2sTMVP"
      }
    },
    {
      "cell_type": "code",
      "source": [
        "import pandas as pd\n",
        "import numpy as np\n",
        "import re\n",
        "import swifter\n",
        "import tensorflow as tf\n",
        "from Sastrawi.Stemmer.StemmerFactory import StemmerFactory\n",
        "from Sastrawi.StopWordRemover.StopWordRemoverFactory import StopWordRemoverFactory, StopWordRemover, ArrayDictionary\n",
        "from sklearn.model_selection import train_test_split\n",
        "from tensorflow.keras.preprocessing.text import Tokenizer\n",
        "from tensorflow.keras.preprocessing.sequence import pad_sequences"
      ],
      "metadata": {
        "id": "JIx2tqqATOsd"
      },
      "execution_count": 10,
      "outputs": []
    },
    {
      "cell_type": "markdown",
      "source": [
        "## Load dataset"
      ],
      "metadata": {
        "id": "KoB6qEOlT2vz"
      }
    },
    {
      "cell_type": "code",
      "source": [
        "# import news dataset from google drive\n",
        "!gdown --id 1TZzhtYYXpulrio27rmv-bR_ONo_IQNYz"
      ],
      "metadata": {
        "colab": {
          "base_uri": "https://localhost:8080/"
        },
        "id": "_Tl4xMJpT5uJ",
        "outputId": "8a97ac52-2f1d-4dc2-a123-afe8fae94eb3"
      },
      "execution_count": 3,
      "outputs": [
        {
          "output_type": "stream",
          "name": "stdout",
          "text": [
            "/usr/local/lib/python3.10/dist-packages/gdown/__main__.py:132: FutureWarning: Option `--id` was deprecated in version 4.3.1 and will be removed in 5.0. You don't need to pass it anymore to use a file ID.\n",
            "  warnings.warn(\n",
            "Downloading...\n",
            "From: https://drive.google.com/uc?id=1TZzhtYYXpulrio27rmv-bR_ONo_IQNYz\n",
            "To: /content/dataset_factual_hoax_news.csv\n",
            "100% 11.3M/11.3M [00:00<00:00, 81.1MB/s]\n"
          ]
        }
      ]
    },
    {
      "cell_type": "code",
      "source": [
        "df = pd.read_csv(\"dataset_factual_hoax_news.csv\")\n",
        "df.info()"
      ],
      "metadata": {
        "colab": {
          "base_uri": "https://localhost:8080/"
        },
        "id": "TmSf71uYUc5A",
        "outputId": "ad9c43b4-9363-4870-eb62-6dc4bed52553"
      },
      "execution_count": 4,
      "outputs": [
        {
          "output_type": "stream",
          "name": "stdout",
          "text": [
            "<class 'pandas.core.frame.DataFrame'>\n",
            "RangeIndex: 7329 entries, 0 to 7328\n",
            "Data columns (total 6 columns):\n",
            " #   Column      Non-Null Count  Dtype \n",
            "---  ------      --------------  ----- \n",
            " 0   title       7329 non-null   object\n",
            " 1   link        7329 non-null   object\n",
            " 2   date        6722 non-null   object\n",
            " 3   content     7329 non-null   object\n",
            " 4   is_fake     7329 non-null   int64 \n",
            " 5   media_bias  7329 non-null   object\n",
            "dtypes: int64(1), object(5)\n",
            "memory usage: 343.7+ KB\n"
          ]
        }
      ]
    },
    {
      "cell_type": "markdown",
      "source": [
        "## Lemmatization and stopword removal"
      ],
      "metadata": {
        "id": "p4_CQ8VVVsts"
      }
    },
    {
      "cell_type": "code",
      "source": [
        "# create sastrawi stemmer\n",
        "stemmer_factory = StemmerFactory()\n",
        "stemmer = stemmer_factory.create_stemmer()\n",
        "\n",
        "# create sastrawi stopword\n",
        "stopword_factory = StopWordRemoverFactory()\n",
        "stopword = stopword_factory.create_stop_word_remover()"
      ],
      "metadata": {
        "id": "bg_3-aTAUn6s"
      },
      "execution_count": 5,
      "outputs": []
    },
    {
      "cell_type": "code",
      "source": [
        "# functions for cleaning, removing stopwords\n",
        "def preprocess_text(text):\n",
        "    text = str(text)\n",
        "\n",
        "    # change text to lowercase\n",
        "    text = text.lower()\n",
        "\n",
        "    # change link with http/https patterns\n",
        "    text = re.sub(r'http\\S+', '', text)\n",
        "\n",
        "    # remove hashtag and username\n",
        "    text = re.sub(r'(@\\w+|#\\w+)', '', text)\n",
        "\n",
        "    # remove character other than a-z and A-Z\n",
        "    text = re.sub(r'[^a-zA-Z\\s]', ' ', text)\n",
        "\n",
        "    # replace new line '\\n' with space\n",
        "    text = re.sub(r'\\n', ' ', text)\n",
        "\n",
        "    # remove stopword with sastrawi library\n",
        "    text = stopword.remove(text)\n",
        "\n",
        "    # do stemming with sastrawi library\n",
        "    text = stemmer.stem(text)\n",
        "\n",
        "    # removing more than one space\n",
        "    text = re.sub(r'\\s{2,}', ' ', text)\n",
        "\n",
        "    return text"
      ],
      "metadata": {
        "id": "1tO8D-BkWYGk"
      },
      "execution_count": 6,
      "outputs": []
    },
    {
      "cell_type": "markdown",
      "source": [
        "## Read and process dataset"
      ],
      "metadata": {
        "id": "uKZ5DCQyagS_"
      }
    },
    {
      "cell_type": "code",
      "source": [
        "# read dataset\n",
        "dataset = pd.read_csv(\"dataset_factual_hoax_news.csv\")\n",
        "dataset.info()\n",
        "dataset.head()"
      ],
      "metadata": {
        "colab": {
          "base_uri": "https://localhost:8080/",
          "height": 529
        },
        "id": "jfqNt7Scamh1",
        "outputId": "93702b60-b8e9-494d-a7aa-c37a9d14b7fe"
      },
      "execution_count": 8,
      "outputs": [
        {
          "output_type": "stream",
          "name": "stdout",
          "text": [
            "<class 'pandas.core.frame.DataFrame'>\n",
            "RangeIndex: 7329 entries, 0 to 7328\n",
            "Data columns (total 6 columns):\n",
            " #   Column      Non-Null Count  Dtype \n",
            "---  ------      --------------  ----- \n",
            " 0   title       7329 non-null   object\n",
            " 1   link        7329 non-null   object\n",
            " 2   date        6722 non-null   object\n",
            " 3   content     7329 non-null   object\n",
            " 4   is_fake     7329 non-null   int64 \n",
            " 5   media_bias  7329 non-null   object\n",
            "dtypes: int64(1), object(5)\n",
            "memory usage: 343.7+ KB\n"
          ]
        },
        {
          "output_type": "execute_result",
          "data": {
            "text/plain": [
              "                                               title  \\\n",
              "0     Epy Kusnandar dan Yogi Gamblez Positif Narkoba   \n",
              "1  Cerita Calon Haji, Rasakan Kemudahan Skrining ...   \n",
              "2  Polisi: Kami Butuh Partisipasi Warga untuk Ata...   \n",
              "3  Pengunjung Ragunan Tembus 25 Ribu pada Sabtu S...   \n",
              "4  Mensos Beri Santunan ke Ahli Waris Korban Banj...   \n",
              "\n",
              "                                                link        date  \\\n",
              "0  https://megapolitan.kompas.com/read/2024/05/11...  2024-05-11   \n",
              "1  https://news.detik.com/berita/d-7304275/cerita...  22/04/2024   \n",
              "2  https://megapolitan.kompas.com/read/2024/05/07...  2024-05-07   \n",
              "3  https://news.detik.com/berita/d-7335065/pengun...  11/05/2024   \n",
              "4  https://news.detik.com/berita/d-7305239/mensos...  22/04/2024   \n",
              "\n",
              "                                             content  is_fake media_bias  \n",
              "0  JAKARTA, KOMPAS.com - Polisi mengungkap hasil ...        0     netral  \n",
              "1  Salah satu peserta program Jaminan Kesehatan N...        0     netral  \n",
              "2   JAKARTA, KOMPAS.com - Kapolres Metro Jakarta ...        0     netral  \n",
              "3  Sebanyak 25.555 orang tercatat mengunjungi Tam...        0     netral  \n",
              "4  Menteri Sosial Tri Rismaharini melakukan kunju...        0     netral  "
            ],
            "text/html": [
              "\n",
              "  <div id=\"df-1e5ea6e8-9d61-4243-9980-90463dbdf416\" class=\"colab-df-container\">\n",
              "    <div>\n",
              "<style scoped>\n",
              "    .dataframe tbody tr th:only-of-type {\n",
              "        vertical-align: middle;\n",
              "    }\n",
              "\n",
              "    .dataframe tbody tr th {\n",
              "        vertical-align: top;\n",
              "    }\n",
              "\n",
              "    .dataframe thead th {\n",
              "        text-align: right;\n",
              "    }\n",
              "</style>\n",
              "<table border=\"1\" class=\"dataframe\">\n",
              "  <thead>\n",
              "    <tr style=\"text-align: right;\">\n",
              "      <th></th>\n",
              "      <th>title</th>\n",
              "      <th>link</th>\n",
              "      <th>date</th>\n",
              "      <th>content</th>\n",
              "      <th>is_fake</th>\n",
              "      <th>media_bias</th>\n",
              "    </tr>\n",
              "  </thead>\n",
              "  <tbody>\n",
              "    <tr>\n",
              "      <th>0</th>\n",
              "      <td>Epy Kusnandar dan Yogi Gamblez Positif Narkoba</td>\n",
              "      <td>https://megapolitan.kompas.com/read/2024/05/11...</td>\n",
              "      <td>2024-05-11</td>\n",
              "      <td>JAKARTA, KOMPAS.com - Polisi mengungkap hasil ...</td>\n",
              "      <td>0</td>\n",
              "      <td>netral</td>\n",
              "    </tr>\n",
              "    <tr>\n",
              "      <th>1</th>\n",
              "      <td>Cerita Calon Haji, Rasakan Kemudahan Skrining ...</td>\n",
              "      <td>https://news.detik.com/berita/d-7304275/cerita...</td>\n",
              "      <td>22/04/2024</td>\n",
              "      <td>Salah satu peserta program Jaminan Kesehatan N...</td>\n",
              "      <td>0</td>\n",
              "      <td>netral</td>\n",
              "    </tr>\n",
              "    <tr>\n",
              "      <th>2</th>\n",
              "      <td>Polisi: Kami Butuh Partisipasi Warga untuk Ata...</td>\n",
              "      <td>https://megapolitan.kompas.com/read/2024/05/07...</td>\n",
              "      <td>2024-05-07</td>\n",
              "      <td>JAKARTA, KOMPAS.com - Kapolres Metro Jakarta ...</td>\n",
              "      <td>0</td>\n",
              "      <td>netral</td>\n",
              "    </tr>\n",
              "    <tr>\n",
              "      <th>3</th>\n",
              "      <td>Pengunjung Ragunan Tembus 25 Ribu pada Sabtu S...</td>\n",
              "      <td>https://news.detik.com/berita/d-7335065/pengun...</td>\n",
              "      <td>11/05/2024</td>\n",
              "      <td>Sebanyak 25.555 orang tercatat mengunjungi Tam...</td>\n",
              "      <td>0</td>\n",
              "      <td>netral</td>\n",
              "    </tr>\n",
              "    <tr>\n",
              "      <th>4</th>\n",
              "      <td>Mensos Beri Santunan ke Ahli Waris Korban Banj...</td>\n",
              "      <td>https://news.detik.com/berita/d-7305239/mensos...</td>\n",
              "      <td>22/04/2024</td>\n",
              "      <td>Menteri Sosial Tri Rismaharini melakukan kunju...</td>\n",
              "      <td>0</td>\n",
              "      <td>netral</td>\n",
              "    </tr>\n",
              "  </tbody>\n",
              "</table>\n",
              "</div>\n",
              "    <div class=\"colab-df-buttons\">\n",
              "\n",
              "  <div class=\"colab-df-container\">\n",
              "    <button class=\"colab-df-convert\" onclick=\"convertToInteractive('df-1e5ea6e8-9d61-4243-9980-90463dbdf416')\"\n",
              "            title=\"Convert this dataframe to an interactive table.\"\n",
              "            style=\"display:none;\">\n",
              "\n",
              "  <svg xmlns=\"http://www.w3.org/2000/svg\" height=\"24px\" viewBox=\"0 -960 960 960\">\n",
              "    <path d=\"M120-120v-720h720v720H120Zm60-500h600v-160H180v160Zm220 220h160v-160H400v160Zm0 220h160v-160H400v160ZM180-400h160v-160H180v160Zm440 0h160v-160H620v160ZM180-180h160v-160H180v160Zm440 0h160v-160H620v160Z\"/>\n",
              "  </svg>\n",
              "    </button>\n",
              "\n",
              "  <style>\n",
              "    .colab-df-container {\n",
              "      display:flex;\n",
              "      gap: 12px;\n",
              "    }\n",
              "\n",
              "    .colab-df-convert {\n",
              "      background-color: #E8F0FE;\n",
              "      border: none;\n",
              "      border-radius: 50%;\n",
              "      cursor: pointer;\n",
              "      display: none;\n",
              "      fill: #1967D2;\n",
              "      height: 32px;\n",
              "      padding: 0 0 0 0;\n",
              "      width: 32px;\n",
              "    }\n",
              "\n",
              "    .colab-df-convert:hover {\n",
              "      background-color: #E2EBFA;\n",
              "      box-shadow: 0px 1px 2px rgba(60, 64, 67, 0.3), 0px 1px 3px 1px rgba(60, 64, 67, 0.15);\n",
              "      fill: #174EA6;\n",
              "    }\n",
              "\n",
              "    .colab-df-buttons div {\n",
              "      margin-bottom: 4px;\n",
              "    }\n",
              "\n",
              "    [theme=dark] .colab-df-convert {\n",
              "      background-color: #3B4455;\n",
              "      fill: #D2E3FC;\n",
              "    }\n",
              "\n",
              "    [theme=dark] .colab-df-convert:hover {\n",
              "      background-color: #434B5C;\n",
              "      box-shadow: 0px 1px 3px 1px rgba(0, 0, 0, 0.15);\n",
              "      filter: drop-shadow(0px 1px 2px rgba(0, 0, 0, 0.3));\n",
              "      fill: #FFFFFF;\n",
              "    }\n",
              "  </style>\n",
              "\n",
              "    <script>\n",
              "      const buttonEl =\n",
              "        document.querySelector('#df-1e5ea6e8-9d61-4243-9980-90463dbdf416 button.colab-df-convert');\n",
              "      buttonEl.style.display =\n",
              "        google.colab.kernel.accessAllowed ? 'block' : 'none';\n",
              "\n",
              "      async function convertToInteractive(key) {\n",
              "        const element = document.querySelector('#df-1e5ea6e8-9d61-4243-9980-90463dbdf416');\n",
              "        const dataTable =\n",
              "          await google.colab.kernel.invokeFunction('convertToInteractive',\n",
              "                                                    [key], {});\n",
              "        if (!dataTable) return;\n",
              "\n",
              "        const docLinkHtml = 'Like what you see? Visit the ' +\n",
              "          '<a target=\"_blank\" href=https://colab.research.google.com/notebooks/data_table.ipynb>data table notebook</a>'\n",
              "          + ' to learn more about interactive tables.';\n",
              "        element.innerHTML = '';\n",
              "        dataTable['output_type'] = 'display_data';\n",
              "        await google.colab.output.renderOutput(dataTable, element);\n",
              "        const docLink = document.createElement('div');\n",
              "        docLink.innerHTML = docLinkHtml;\n",
              "        element.appendChild(docLink);\n",
              "      }\n",
              "    </script>\n",
              "  </div>\n",
              "\n",
              "\n",
              "<div id=\"df-f7a3bf69-2ebc-4778-bba7-86051f01b964\">\n",
              "  <button class=\"colab-df-quickchart\" onclick=\"quickchart('df-f7a3bf69-2ebc-4778-bba7-86051f01b964')\"\n",
              "            title=\"Suggest charts\"\n",
              "            style=\"display:none;\">\n",
              "\n",
              "<svg xmlns=\"http://www.w3.org/2000/svg\" height=\"24px\"viewBox=\"0 0 24 24\"\n",
              "     width=\"24px\">\n",
              "    <g>\n",
              "        <path d=\"M19 3H5c-1.1 0-2 .9-2 2v14c0 1.1.9 2 2 2h14c1.1 0 2-.9 2-2V5c0-1.1-.9-2-2-2zM9 17H7v-7h2v7zm4 0h-2V7h2v10zm4 0h-2v-4h2v4z\"/>\n",
              "    </g>\n",
              "</svg>\n",
              "  </button>\n",
              "\n",
              "<style>\n",
              "  .colab-df-quickchart {\n",
              "      --bg-color: #E8F0FE;\n",
              "      --fill-color: #1967D2;\n",
              "      --hover-bg-color: #E2EBFA;\n",
              "      --hover-fill-color: #174EA6;\n",
              "      --disabled-fill-color: #AAA;\n",
              "      --disabled-bg-color: #DDD;\n",
              "  }\n",
              "\n",
              "  [theme=dark] .colab-df-quickchart {\n",
              "      --bg-color: #3B4455;\n",
              "      --fill-color: #D2E3FC;\n",
              "      --hover-bg-color: #434B5C;\n",
              "      --hover-fill-color: #FFFFFF;\n",
              "      --disabled-bg-color: #3B4455;\n",
              "      --disabled-fill-color: #666;\n",
              "  }\n",
              "\n",
              "  .colab-df-quickchart {\n",
              "    background-color: var(--bg-color);\n",
              "    border: none;\n",
              "    border-radius: 50%;\n",
              "    cursor: pointer;\n",
              "    display: none;\n",
              "    fill: var(--fill-color);\n",
              "    height: 32px;\n",
              "    padding: 0;\n",
              "    width: 32px;\n",
              "  }\n",
              "\n",
              "  .colab-df-quickchart:hover {\n",
              "    background-color: var(--hover-bg-color);\n",
              "    box-shadow: 0 1px 2px rgba(60, 64, 67, 0.3), 0 1px 3px 1px rgba(60, 64, 67, 0.15);\n",
              "    fill: var(--button-hover-fill-color);\n",
              "  }\n",
              "\n",
              "  .colab-df-quickchart-complete:disabled,\n",
              "  .colab-df-quickchart-complete:disabled:hover {\n",
              "    background-color: var(--disabled-bg-color);\n",
              "    fill: var(--disabled-fill-color);\n",
              "    box-shadow: none;\n",
              "  }\n",
              "\n",
              "  .colab-df-spinner {\n",
              "    border: 2px solid var(--fill-color);\n",
              "    border-color: transparent;\n",
              "    border-bottom-color: var(--fill-color);\n",
              "    animation:\n",
              "      spin 1s steps(1) infinite;\n",
              "  }\n",
              "\n",
              "  @keyframes spin {\n",
              "    0% {\n",
              "      border-color: transparent;\n",
              "      border-bottom-color: var(--fill-color);\n",
              "      border-left-color: var(--fill-color);\n",
              "    }\n",
              "    20% {\n",
              "      border-color: transparent;\n",
              "      border-left-color: var(--fill-color);\n",
              "      border-top-color: var(--fill-color);\n",
              "    }\n",
              "    30% {\n",
              "      border-color: transparent;\n",
              "      border-left-color: var(--fill-color);\n",
              "      border-top-color: var(--fill-color);\n",
              "      border-right-color: var(--fill-color);\n",
              "    }\n",
              "    40% {\n",
              "      border-color: transparent;\n",
              "      border-right-color: var(--fill-color);\n",
              "      border-top-color: var(--fill-color);\n",
              "    }\n",
              "    60% {\n",
              "      border-color: transparent;\n",
              "      border-right-color: var(--fill-color);\n",
              "    }\n",
              "    80% {\n",
              "      border-color: transparent;\n",
              "      border-right-color: var(--fill-color);\n",
              "      border-bottom-color: var(--fill-color);\n",
              "    }\n",
              "    90% {\n",
              "      border-color: transparent;\n",
              "      border-bottom-color: var(--fill-color);\n",
              "    }\n",
              "  }\n",
              "</style>\n",
              "\n",
              "  <script>\n",
              "    async function quickchart(key) {\n",
              "      const quickchartButtonEl =\n",
              "        document.querySelector('#' + key + ' button');\n",
              "      quickchartButtonEl.disabled = true;  // To prevent multiple clicks.\n",
              "      quickchartButtonEl.classList.add('colab-df-spinner');\n",
              "      try {\n",
              "        const charts = await google.colab.kernel.invokeFunction(\n",
              "            'suggestCharts', [key], {});\n",
              "      } catch (error) {\n",
              "        console.error('Error during call to suggestCharts:', error);\n",
              "      }\n",
              "      quickchartButtonEl.classList.remove('colab-df-spinner');\n",
              "      quickchartButtonEl.classList.add('colab-df-quickchart-complete');\n",
              "    }\n",
              "    (() => {\n",
              "      let quickchartButtonEl =\n",
              "        document.querySelector('#df-f7a3bf69-2ebc-4778-bba7-86051f01b964 button');\n",
              "      quickchartButtonEl.style.display =\n",
              "        google.colab.kernel.accessAllowed ? 'block' : 'none';\n",
              "    })();\n",
              "  </script>\n",
              "</div>\n",
              "    </div>\n",
              "  </div>\n"
            ],
            "application/vnd.google.colaboratory.intrinsic+json": {
              "type": "dataframe",
              "variable_name": "dataset",
              "summary": "{\n  \"name\": \"dataset\",\n  \"rows\": 7329,\n  \"fields\": [\n    {\n      \"column\": \"title\",\n      \"properties\": {\n        \"dtype\": \"string\",\n        \"num_unique_values\": 7327,\n        \"samples\": [\n          \"Cuaca Panas Jakarta, Penjual Es Krim di IRTI Monas pun Cuan\",\n          \"ABG Tewas di Jaksel Dijemput Tersangka Pakai BMW 'Emas', Ini Penampakannya\",\n          \"Mahfud MD Akui Kemenangan Prabowo-Gibran\"\n        ],\n        \"semantic_type\": \"\",\n        \"description\": \"\"\n      }\n    },\n    {\n      \"column\": \"link\",\n      \"properties\": {\n        \"dtype\": \"string\",\n        \"num_unique_values\": 7329,\n        \"samples\": [\n          \"https://news.detik.com/berita/d-7318642/geledah-kantor-setjen-dpr-kpk-bawa-3-koper\",\n          \"https://news.detik.com/berita/d-7337685/korban-tewas-banjir-bandang-di-sumbar-bertambah-jadi-43-orang\",\n          \"https://news.detik.com/berita/d-7336707/uji-publik-dimulai-ini-15-polisi-kandidat-penerima-hoegeng-awards-2024\"\n        ],\n        \"semantic_type\": \"\",\n        \"description\": \"\"\n      }\n    },\n    {\n      \"column\": \"date\",\n      \"properties\": {\n        \"dtype\": \"category\",\n        \"num_unique_values\": 1389,\n        \"samples\": [\n          \"2022-07-29\",\n          \"2023-11-27\",\n          \"2023-09-01\"\n        ],\n        \"semantic_type\": \"\",\n        \"description\": \"\"\n      }\n    },\n    {\n      \"column\": \"content\",\n      \"properties\": {\n        \"dtype\": \"string\",\n        \"num_unique_values\": 7329,\n        \"samples\": [\n          \"KPK telah menggeledah gedung Sekretariat Jenderal (Setjen) DPR terkait penyidikan kasus dugaan korupsi pengadaan barang dan jasa pada rumah jabatan anggota DPR RI. Penyidik KPK membawa tiga koper ke mobil berbeda.Pantauan detikcom, Selasa (30/4/2024), pukul 17.52 WIB, penyidik KPK keluar gedung Setjen DPR setelah melakukan penggeledahan sejak siang tadi. Sejumlah penyidik membawa tiga koper dan satu ransel ke dua mobil berbeda yang telah terparkir di halaman gedung Setjen DPR.Situasi pintu lobi utama kantor Setjen DPR dijaga ketat sejumlah petugas Pamdal DPR. Selain itu, terlihat personel kepolisian dengan senjata laras panjang.\\r\\nADVERTISEMENT\\r\\n\\r\\nSCROLL TO CONTINUE WITH CONTENT\\r\\nSelama penggeledahan, akses bagi pegawai Setjen DPR dialihkan lewat pintu samping dekat koperasi pegawai. Sejumlah personel Pengamanan Dalam (Pamdal) DPR juga berjaga.Pintu belakang kantor Setjen DPR juga dijaga ketat oleh petugas Pamdal DPR. Akses jalan dilarang dalam sementara waktu.Diketahui, penggeledahan di gedung Setjen DPR terkait penyidikan kasus dugaan korupsi pengadaan barang dan jasa pada rumah jabatan anggota DPR RI. Salah satu yang digeledah adalah ruang kerja Sekjen DPR Indra Iskandar.\\\"Benar, ada giat tersebut dalam rangka pengumpulan bukti,\\\" kata Kata Kabag Pemberitaan KPK Ali Fikri, Selasa (30/4).Hal itu disampaikan Ali saat ditanya apakah ruangan yang digeledah adalah ruang kerja Sekjen DPR Indra Iskandar. Namun, Ali belum menjelaskan apakah penggeledahan masih berlangsung atau sudah selesai. Dia juga belum menjelaskan apa saja yang ditemukan penyidik KPK dari penggeledahan itu.\",\n          \"Jumlah korban tewas akibat banjir bandang di Sumatera Barat bertambah menjadi 43 orang. Sebanyak enam jenazah ditemukan tim gabungan hari ini.Berdasarkan keterangan resmi BNPB, Senin (13/5/2024), data korban terbaru ini dicatat per pukul 13.00 WIB. Tim pencarian menemukan lima korban tewas warga Kabupaten Tanah Datar dan satu orang warga Padang Pariaman.Dari enam jenazah yang ditemukan hari ini, empat di antaranya masih dalam proses identifikasi.\\r\\nADVERTISEMENT\\r\\n\\r\\nSCROLL TO CONTINUE WITH CONTENT\\r\\n\\\"Adapun rincian korban meninggal dunia per siang ini antara lain di Kabupaten Agam 19 orang, Kabupaten Tanah Datar 14 orang, Kabupaten Padang Pariaman 8 orang, Kabupaten Padang Panjang dua orang. Sementara itu, korban dalam pencarian sebanyak 15 orang,\\\" ujar Kepala Pusat Data, Informasi dan Komunikasi Kebencanaan BNPB, Abdul Muhari.Sementara itu, warga di sekitar lokasi kejadian diminta mengungsi ke tempat lebih aman. Pusat Pengendalian Operasi (Pusdalops) BNPB mencatat jumlah pengungsi di Kabupaten Agam sebanyak 1.159 jiwa dan di Kabupaten Tanah Datar sebanyak 2.039 jiwa.Abdul Muhari menyampaikan hari ini Kepala BNPB Letjen TNI Suharyanto bertolak ke Sumatera Barat untuk memimpin rapat koordinasi penanganan darurat bencana banjir bandang di Sumatera Barat.Suharyanto dijadwalkan melakukan tinjauan langsung ke lokasi terdampak bencana menggunakan helikopter. Helikopter ini nantinya akan standby di Sumatra Barat untuk membantu proses evakuasi korban dan distribusi logistik di daerah terdampak.Sebelumnya, data per Minggu (12/5) malam, jumlah korban tewas tercatat sebanyak 37 orang. Banjir bandang dipicu hujan dengan intensitas tinggi di wilayah hulu Gunung Marapi. Sebanyak empat kabupaten terdampak antara lain Kabupaten Agam, Kabupaten Tanah Datar, Kabupaten Padang Panjang, dan Kabupaten Padang Pariaman.Simak Video: Pemicu-Himbauan BMKG Terkait Banjir Bandang di Sumbar[Gambas:Video 20detik]\",\n          \"Dewan Pakar Hoegeng Awards 2024 telah memilih 15 nama kandidat penerima Hoegeng Awards 2024 untuk 5 kategori penghargaan. Kini saatnya uji publik dimulai.Mulai hari Senin 13 Mei 2024 hingga Senin 20 Mei 2024, pembaca detikcom dan masyarakat bisa memberikan informasi tambahan mengenai 15 orang kandidat penerima Hoegeng Awards 2024 ini. Redaksi menjamin kerahasiaan identitas pembaca detikcom yang mengirimkan informasi tersebut.Masukan bisa dikirim ke email redaksi@detik.com dengan subjek Hoegeng Awards 2024 dan menyertakan dokumen atau data pendukung. Jangan lupa sertakan nama dan nomor telepon yang bisa dihubungi. Panitia dan Dewan Pakar tidak menerima segala bentuk penggalangan dukungan dalam uji publik Hoegeng Awards 2024 ini.\\r\\nADVERTISEMENT\\r\\n\\r\\nSCROLL TO CONTINUE WITH CONTENT\\r\\nDewan Pakar Hoegeng Awards 2024 memilih 15 besar kandidat ini dalam rapat yang digelar di Menara Bank Mega, Jakarta Selatan, Kamis (2/5/2024). Adapun Dewan Pakar Hoegeng Awards tahun ini adalah Mantan Plt Pimpinan KPK Dr. Mas Achmad Santosa, S.H., LL.M., anggota Kompolnas Poengky Indarti,S.H., LL.M., Koordinator Nasional Jaringan Gusdurian Indonesia Alissa Qotrunnada Wahid, S.Psi. Anggota Komnas HAM Putu Elvina, S.Psi., MM dan Wakil Ketua Komisi III DPR, Dr. Habiburokhman, S.H., M.H.Para kandidat tersebut dipilih dari usulan pembaca melalui formulir digital, kemudian panitia melakukan verifikasi usulan tersebut dengan menghubungi pengusul, hingga melakukan pengecekan langsung ke lapangan.Berikut 15 polisi kandidat penerima Hoegeng Awards 2024:- Brigjen Indarto, Direktur Program Pascasarjana STIK Lemdiklat Polri ((baca profilnya di sini)- AKBP Sri Wahyuni, Kabag Gadik Sepolwan Lemdiklat Polri (baca profilnya di sini)- Aiptu Supriyanto, Anggota Polres Lampung Tengah (baca profilnya di sini)- AKP I Eka Berlin, Kasat Samapta Polres Nunukan, Kalimantan Utara (Baca profilnya di sini)- Bripka Septinus Arui, Bhabinkamtibmas Kampung Ayambori, Manokwari (Baca profilnya di sini)- \\u00e2\\u0081\\u00a0Aipda Wardika, Kanit Tipikor Satreskrim Polres Simeulue (Baca profilnya di sini)- \\u00e2\\u0081\\u00a0Bripka Alfin Nancy Tanauma, Banit Reskrim Polsek Biromaru (Baca profilnya di sini)- \\u00e2\\u0081\\u00a0Aiptu Fransisca Dhamayanti, Kanit Binpolmas Sat Binmas Polres Lamandau (Baca profilnya di sini)- \\u00e2\\u0081\\u00a0AKBP Rio Wahyu Anggoro, Kapolres Bogor (Baca profilnya di sini)- \\u00e2\\u0081\\u00a0Kombes Bismo Teguh Prakoso, Kapolresta Bogor Kota (Baca profilnya di sini)- \\u00e2\\u0081\\u00a0Bripka Imam Heri Susanto, Bhabinkamtibmas Pulau Sari, Tanah Laut, Kalimantan Selatan (Baca profilnya di sini)- AKP Reza Pratama Rhamdani Yusuf, Kasat Lantas Polres Kukar periode 2021-2023 (Baca profilnya di sini)\\u00e2\\u0081\\u00a0- Iptu Made Ambo, Ps Kasat Binmas Polres Jayapura (Baca profilnya di sini)- \\u00e2\\u0081\\u00a0Bripka Marwanto, Bhabinkamtibmas Desa Candi, Kecamatan Ampel, Boyolali, Jawa Tengah (Baca profilnya di sini)- \\u00e2\\u0081\\u00a0Bripka Nurmansyah, Anggota Satuan Brimob Polda Sulawesi Selatan (Baca profilnya di sini)Hoegeng Awards sejak awal digelar melibatkan masyarakat dengan tujuan untuk memantau kinerja petugas kepolisian demi peningkatan kinerja Polri. Oleh karena itu, masukan pembaca untuk tahapan Hoegeng Awards 2024 sangat diperlukan.Lewat tahapan uji publik ini, pembaca detikcom dan masyarakat diharapkan bisa memberi masukan informasi mengenai sisi positif maupun sisi negatif para kandidat 3 besar Hoegeng Awards 2024. Sertakan juga data atau dokumentasi pendukung untuk mempermudah tindak lanjut.\"\n        ],\n        \"semantic_type\": \"\",\n        \"description\": \"\"\n      }\n    },\n    {\n      \"column\": \"is_fake\",\n      \"properties\": {\n        \"dtype\": \"number\",\n        \"std\": 0,\n        \"min\": 0,\n        \"max\": 1,\n        \"num_unique_values\": 2,\n        \"samples\": [\n          1,\n          0\n        ],\n        \"semantic_type\": \"\",\n        \"description\": \"\"\n      }\n    },\n    {\n      \"column\": \"media_bias\",\n      \"properties\": {\n        \"dtype\": \"category\",\n        \"num_unique_values\": 3,\n        \"samples\": [\n          \"netral\",\n          \"right\"\n        ],\n        \"semantic_type\": \"\",\n        \"description\": \"\"\n      }\n    }\n  ]\n}"
            }
          },
          "metadata": {},
          "execution_count": 8
        }
      ]
    },
    {
      "cell_type": "code",
      "source": [
        "# combine title and content\n",
        "dataset['text'] = dataset['title'] + ' ' + dataset['content']\n",
        "\n",
        "# text preprocessing\n",
        "dataset['text'] = dataset['text'].swifter.apply(preprocess_text)"
      ],
      "metadata": {
        "colab": {
          "base_uri": "https://localhost:8080/",
          "height": 49,
          "referenced_widgets": [
            "10d09426735c4695adda01dfee7ac9b8",
            "ed12cb25c3574b41afcba4ce9be36839",
            "13f48b7bf4eb4c8e90938f5fb9e4a664",
            "d6f525ec226844209b82e0d500e573c1",
            "c96ac5f70749450789f5c448ea4936f8",
            "3ca8f3381c38496982209f0d46ba5dbb",
            "6c9a754e60e34c90be696f70b7a6db70",
            "3b82672e82434a91933319faceb75b78",
            "f655bd5446dc465fa492d03e49b0d7f6",
            "d6ef9d037551413aad265d06a85be864",
            "37ea54c2c3824ca58666c859576613c3"
          ]
        },
        "id": "ezU5ngWOayyr",
        "outputId": "b63f09ef-b23b-4add-e1db-3b3f9020d35d"
      },
      "execution_count": 11,
      "outputs": [
        {
          "output_type": "display_data",
          "data": {
            "text/plain": [
              "Pandas Apply:   0%|          | 0/7329 [00:00<?, ?it/s]"
            ],
            "application/vnd.jupyter.widget-view+json": {
              "version_major": 2,
              "version_minor": 0,
              "model_id": "10d09426735c4695adda01dfee7ac9b8"
            }
          },
          "metadata": {}
        }
      ]
    },
    {
      "cell_type": "markdown",
      "source": [
        "## Save data preprocessing result"
      ],
      "metadata": {
        "id": "j9xE2VoHhZVb"
      }
    },
    {
      "cell_type": "code",
      "source": [
        "# save data preprocessing result\n",
        "dataset.to_csv(\"dataset_news.csv\")\n",
        "dataset.to_json(\"dataset_news.json\")"
      ],
      "metadata": {
        "id": "GhPZoIRrhqZh"
      },
      "execution_count": 12,
      "outputs": []
    },
    {
      "cell_type": "markdown",
      "source": [
        "## Create Tokenizer"
      ],
      "metadata": {
        "id": "iOtAgJuZgPhs"
      }
    },
    {
      "cell_type": "code",
      "source": [
        "# separating features and labels\n",
        "X = dataset['text'].values\n",
        "y = dataset['is_fake'].values"
      ],
      "metadata": {
        "id": "15O-uKMdcNIR"
      },
      "execution_count": 13,
      "outputs": []
    },
    {
      "cell_type": "code",
      "source": [
        "# Create tokenizer\n",
        "tokenizer = Tokenizer(num_words=10000, oov_token='<OOV>')\n",
        "tokenizer.fit_on_texts(X)\n",
        "\n",
        "# Converting text to numeric squences\n",
        "sequences = tokenizer.texts_to_sequences(X)\n",
        "\n",
        "# Padding the squences\n",
        "padded_sequences = pad_sequences(sequences, maxlen=200, padding='post')"
      ],
      "metadata": {
        "id": "fqLwO7GzgKy4"
      },
      "execution_count": 35,
      "outputs": []
    },
    {
      "cell_type": "markdown",
      "source": [
        "## Split the dataset\n"
      ],
      "metadata": {
        "id": "LnB_ZIi9hMfr"
      }
    },
    {
      "cell_type": "code",
      "source": [
        "# Split the dataset into training and testing data\n",
        "X_train, X_test, y_train, y_test = train_test_split(padded_sequences, y, test_size=0.2, random_state=42)"
      ],
      "metadata": {
        "id": "Ww6HFgs3hWYF"
      },
      "execution_count": 36,
      "outputs": []
    },
    {
      "cell_type": "markdown",
      "source": [
        "# Modeling"
      ],
      "metadata": {
        "id": "ghlDtV2Siebg"
      }
    },
    {
      "cell_type": "markdown",
      "source": [
        "## Import library"
      ],
      "metadata": {
        "id": "Pqdxl6RqjlmM"
      }
    },
    {
      "cell_type": "code",
      "source": [
        "import matplotlib.pyplot as plt\n",
        "from tensorflow.keras.models import Sequential\n",
        "from tensorflow.keras.layers import Embedding, LSTM, Dense, Dropout, Bidirectional\n",
        "from tensorflow.keras.callbacks import EarlyStopping, ModelCheckpoint\n",
        "from keras.optimizers import Adam\n",
        "from tensorflow.keras.regularizers import l2"
      ],
      "metadata": {
        "id": "fPWxQQw8igpx"
      },
      "execution_count": 41,
      "outputs": []
    },
    {
      "cell_type": "markdown",
      "source": [
        "## Create LSTM model"
      ],
      "metadata": {
        "id": "ZI4B3HdMjo4j"
      }
    },
    {
      "cell_type": "code",
      "source": [
        "# create model\n",
        "model = Sequential()\n",
        "model.add(Embedding(input_dim=10000, output_dim=64, input_length=200))\n",
        "model.add(Bidirectional(LSTM(64, return_sequences=True, kernel_regularizer=l2(0.01))))\n",
        "model.add(Dropout(0.5))\n",
        "model.add(Bidirectional(LSTM(32, kernel_regularizer=l2(0.01))))\n",
        "model.add(Dropout(0.5))\n",
        "model.add(Dense(64, activation='relu'))\n",
        "model.add(Dropout(0.5))\n",
        "model.add(Dense(32, activation='relu'))\n",
        "model.add(Dropout(0.5))\n",
        "model.add(Dense(1, activation='sigmoid'))\n",
        "\n",
        "# compile model\n",
        "model.compile(optimizer=Adam(learning_rate=0.001), loss='binary_crossentropy', metrics=['accuracy'])\n",
        "\n",
        "# set up early stopping\n",
        "early_stopping = EarlyStopping(monitor='val_loss', patience=3, restore_best_weights=True)\n",
        "\n",
        "# model training\n",
        "history = model.fit(X_train, y_train, epochs=10,\n",
        "                    validation_data=(X_test, y_test),\n",
        "                    batch_size=64,\n",
        "                    callbacks=[early_stopping])"
      ],
      "metadata": {
        "colab": {
          "base_uri": "https://localhost:8080/"
        },
        "id": "lYMWAGUfjvns",
        "outputId": "e4576891-0d94-46e6-f1b3-f8c18b012a87"
      },
      "execution_count": 53,
      "outputs": [
        {
          "output_type": "stream",
          "name": "stdout",
          "text": [
            "Epoch 1/10\n",
            "92/92 [==============================] - 27s 198ms/step - loss: 2.2994 - accuracy: 0.8989 - val_loss: 0.6958 - val_accuracy: 0.9789\n",
            "Epoch 2/10\n",
            "92/92 [==============================] - 13s 144ms/step - loss: 0.4065 - accuracy: 0.9719 - val_loss: 0.2668 - val_accuracy: 0.9857\n",
            "Epoch 3/10\n",
            "92/92 [==============================] - 12s 125ms/step - loss: 0.1511 - accuracy: 0.9906 - val_loss: 0.0932 - val_accuracy: 0.9939\n",
            "Epoch 4/10\n",
            "92/92 [==============================] - 8s 83ms/step - loss: 0.0763 - accuracy: 0.9969 - val_loss: 0.0777 - val_accuracy: 0.9952\n",
            "Epoch 5/10\n",
            "92/92 [==============================] - 8s 90ms/step - loss: 0.0745 - accuracy: 0.9956 - val_loss: 0.0524 - val_accuracy: 0.9966\n",
            "Epoch 6/10\n",
            "92/92 [==============================] - 6s 66ms/step - loss: 0.0503 - accuracy: 0.9986 - val_loss: 0.0431 - val_accuracy: 0.9973\n",
            "Epoch 7/10\n",
            "92/92 [==============================] - 8s 90ms/step - loss: 0.0302 - accuracy: 0.9998 - val_loss: 0.0397 - val_accuracy: 0.9973\n",
            "Epoch 8/10\n",
            "92/92 [==============================] - 5s 50ms/step - loss: 0.0216 - accuracy: 0.9998 - val_loss: 0.0342 - val_accuracy: 0.9980\n",
            "Epoch 9/10\n",
            "92/92 [==============================] - 4s 47ms/step - loss: 0.0152 - accuracy: 1.0000 - val_loss: 0.0311 - val_accuracy: 0.9980\n",
            "Epoch 10/10\n",
            "92/92 [==============================] - 7s 74ms/step - loss: 0.0115 - accuracy: 1.0000 - val_loss: 0.0339 - val_accuracy: 0.9959\n"
          ]
        }
      ]
    },
    {
      "cell_type": "code",
      "source": [
        "# training & validation loss values\n",
        "plt.figure(figsize=(12, 4))\n",
        "\n",
        "plt.subplot(1, 2, 1)\n",
        "plt.plot(history.history['loss'], label='Training Loss')\n",
        "plt.plot(history.history['val_loss'], label='Validation Loss')\n",
        "plt.title('Model Loss')\n",
        "plt.xlabel('Epoch')\n",
        "plt.ylabel('Loss')\n",
        "plt.legend(loc='upper right')\n",
        "\n",
        "# training & validation accuracy values\n",
        "plt.subplot(1, 2, 2)\n",
        "plt.plot(history.history['accuracy'], label='Training Accuracy')\n",
        "plt.plot(history.history['val_accuracy'], label='Validation Accuracy')\n",
        "plt.title('Model Accuracy')\n",
        "plt.xlabel('Epoch')\n",
        "plt.ylabel('Accuracy')\n",
        "plt.legend(loc='lower right')\n",
        "\n",
        "plt.tight_layout()\n",
        "plt.show()"
      ],
      "metadata": {
        "colab": {
          "base_uri": "https://localhost:8080/",
          "height": 382
        },
        "id": "WhHj3bkXn2Wv",
        "outputId": "4d076fbe-9cf0-437c-c861-90fc04247961"
      },
      "execution_count": 54,
      "outputs": [
        {
          "output_type": "display_data",
          "data": {
            "text/plain": [
              "<Figure size 1200x400 with 2 Axes>"
            ],
            "image/png": "[encoded data removed]"
          },
          "metadata": {}
        }
      ]
    },
    {
      "cell_type": "markdown",
      "source": [
        "## Evaluate and save model"
      ],
      "metadata": {
        "id": "eYpjdkyuybA_"
      }
    },
    {
      "cell_type": "code",
      "source": [
        "import pickle\n",
        "\n",
        "# Evaluate the model\n",
        "loss, accuracy = model.evaluate(X_test, y_test)\n",
        "print(f'Test Accuracy: {accuracy * 100:.2f}%')\n",
        "\n",
        "# Save the model with HDF5 format\n",
        "model.save('hoax_detection_lstm.h5')\n",
        "\n",
        "# Save the model with pickle format\n",
        "with open('tokenizer.pkl', 'wb') as f:\n",
        "    pickle.dump(tokenizer, f)"
      ],
      "metadata": {
        "colab": {
          "base_uri": "https://localhost:8080/"
        },
        "id": "MfPCjQHUydcH",
        "outputId": "fed4eebb-d78e-4e8f-f76c-fbc033af72e3"
      },
      "execution_count": 55,
      "outputs": [
        {
          "output_type": "stream",
          "name": "stdout",
          "text": [
            "46/46 [==============================] - 1s 15ms/step - loss: 0.0339 - accuracy: 0.9959\n",
            "Test Accuracy: 99.59%\n"
          ]
        },
        {
          "output_type": "stream",
          "name": "stderr",
          "text": [
            "/usr/local/lib/python3.10/dist-packages/keras/src/engine/training.py:3103: UserWarning: You are saving your model as an HDF5 file via `model.save()`. This file format is considered legacy. We recommend using instead the native Keras format, e.g. `model.save('my_model.keras')`.\n",
            "  saving_api.save_model(\n"
          ]
        }
      ]
    },
    {
      "cell_type": "markdown",
      "source": [
        "## Convert to TFLite"
      ],
      "metadata": {
        "id": "tjGY2WsW0jhh"
      }
    },
    {
      "cell_type": "code",
      "source": [
        "# Convert the model with Select TF ops\n",
        "converter = tf.lite.TFLiteConverter.from_keras_model(model)\n",
        "converter.target_spec.supported_ops = [tf.lite.OpsSet.TFLITE_BUILTINS, tf.lite.OpsSet.SELECT_TF_OPS]\n",
        "converter._experimental_lower_tensor_list_ops = False\n",
        "tflite_model = converter.convert()\n",
        "\n",
        "# Save the model\n",
        "with open('hoax_detection_lstm.tflite', 'wb') as f:\n",
        "    f.write(tflite_model)\n",
        "\n",
        "print('Model has been saved as TensorFlow Lite format.')"
      ],
      "metadata": {
        "colab": {
          "base_uri": "https://localhost:8080/"
        },
        "id": "kww6hW4U0lz6",
        "outputId": "1d812ea4-c937-407a-af45-e66e60e1237c"
      },
      "execution_count": 56,
      "outputs": [
        {
          "output_type": "stream",
          "name": "stdout",
          "text": [
            "Model has been saved as TensorFlow Lite format.\n"
          ]
        }
      ]
    },
    {
      "cell_type": "markdown",
      "source": [
        "# Download important files"
      ],
      "metadata": {
        "id": "scsSyVk02eqL"
      }
    },
    {
      "cell_type": "code",
      "source": [
        "from google.colab import files\n",
        "files.download(\"dataset_news.csv\")\n",
        "files.download(\"dataset_news.json\")\n",
        "files.download(\"hoax_detection_lstm.h5\")\n",
        "files.download(\"hoax_detection_lstm.tflite\")\n",
        "files.download(\"tokenizer.pkl\")"
      ],
      "metadata": {
        "colab": {
          "base_uri": "https://localhost:8080/",
          "height": 17
        },
        "id": "WQN-eDjm2gsQ",
        "outputId": "477f9e9f-1c37-4427-dbaf-c5e06f685518"
      },
      "execution_count": 57,
      "outputs": [
        {
          "output_type": "display_data",
          "data": {
            "text/plain": [
              "<IPython.core.display.Javascript object>"
            ],
            "application/javascript": [
              "\n",
              "    async function download(id, filename, size) {\n",
              "      if (!google.colab.kernel.accessAllowed) {\n",
              "        return;\n",
              "      }\n",
              "      const div = document.createElement('div');\n",
              "      const label = document.createElement('label');\n",
              "      label.textContent = `Downloading \"${filename}\": `;\n",
              "      div.appendChild(label);\n",
              "      const progress = document.createElement('progress');\n",
              "      progress.max = size;\n",
              "      div.appendChild(progress);\n",
              "      document.body.appendChild(div);\n",
              "\n",
              "      const buffers = [];\n",
              "      let downloaded = 0;\n",
              "\n",
              "      const channel = await google.colab.kernel.comms.open(id);\n",
              "      // Send a message to notify the kernel that we're ready.\n",
              "      channel.send({})\n",
              "\n",
              "      for await (const message of channel.messages) {\n",
              "        // Send a message to notify the kernel that we're ready.\n",
              "        channel.send({})\n",
              "        if (message.buffers) {\n",
              "          for (const buffer of message.buffers) {\n",
              "            buffers.push(buffer);\n",
              "            downloaded += buffer.byteLength;\n",
              "            progress.value = downloaded;\n",
              "          }\n",
              "        }\n",
              "      }\n",
              "      const blob = new Blob(buffers, {type: 'application/binary'});\n",
              "      const a = document.createElement('a');\n",
              "      a.href = window.URL.createObjectURL(blob);\n",
              "      a.download = filename;\n",
              "      div.appendChild(a);\n",
              "      a.click();\n",
              "      div.remove();\n",
              "    }\n",
              "  "
            ]
          },
          "metadata": {}
        },
        {
          "output_type": "display_data",
          "data": {
            "text/plain": [
              "<IPython.core.display.Javascript object>"
            ],
            "application/javascript": [
              "download(\"download_72e07d5f-123f-41c9-a863-d7f8626b8434\", \"dataset_news.csv\", 18458328)"
            ]
          },
          "metadata": {}
        },
        {
          "output_type": "display_data",
          "data": {
            "text/plain": [
              "<IPython.core.display.Javascript object>"
            ],
            "application/javascript": [
              "\n",
              "    async function download(id, filename, size) {\n",
              "      if (!google.colab.kernel.accessAllowed) {\n",
              "        return;\n",
              "      }\n",
              "      const div = document.createElement('div');\n",
              "      const label = document.createElement('label');\n",
              "      label.textContent = `Downloading \"${filename}\": `;\n",
              "      div.appendChild(label);\n",
              "      const progress = document.createElement('progress');\n",
              "      progress.max = size;\n",
              "      div.appendChild(progress);\n",
              "      document.body.appendChild(div);\n",
              "\n",
              "      const buffers = [];\n",
              "      let downloaded = 0;\n",
              "\n",
              "      const channel = await google.colab.kernel.comms.open(id);\n",
              "      // Send a message to notify the kernel that we're ready.\n",
              "      channel.send({})\n",
              "\n",
              "      for await (const message of channel.messages) {\n",
              "        // Send a message to notify the kernel that we're ready.\n",
              "        channel.send({})\n",
              "        if (message.buffers) {\n",
              "          for (const buffer of message.buffers) {\n",
              "            buffers.push(buffer);\n",
              "            downloaded += buffer.byteLength;\n",
              "            progress.value = downloaded;\n",
              "          }\n",
              "        }\n",
              "      }\n",
              "      const blob = new Blob(buffers, {type: 'application/binary'});\n",
              "      const a = document.createElement('a');\n",
              "      a.href = window.URL.createObjectURL(blob);\n",
              "      a.download = filename;\n",
              "      div.appendChild(a);\n",
              "      a.click();\n",
              "      div.remove();\n",
              "    }\n",
              "  "
            ]
          },
          "metadata": {}
        },
        {
          "output_type": "display_data",
          "data": {
            "text/plain": [
              "<IPython.core.display.Javascript object>"
            ],
            "application/javascript": [
              "download(\"download_d298e045-0614-48be-b31c-9de9f808d192\", \"dataset_news.json\", 18975238)"
            ]
          },
          "metadata": {}
        },
        {
          "output_type": "display_data",
          "data": {
            "text/plain": [
              "<IPython.core.display.Javascript object>"
            ],
            "application/javascript": [
              "\n",
              "    async function download(id, filename, size) {\n",
              "      if (!google.colab.kernel.accessAllowed) {\n",
              "        return;\n",
              "      }\n",
              "      const div = document.createElement('div');\n",
              "      const label = document.createElement('label');\n",
              "      label.textContent = `Downloading \"${filename}\": `;\n",
              "      div.appendChild(label);\n",
              "      const progress = document.createElement('progress');\n",
              "      progress.max = size;\n",
              "      div.appendChild(progress);\n",
              "      document.body.appendChild(div);\n",
              "\n",
              "      const buffers = [];\n",
              "      let downloaded = 0;\n",
              "\n",
              "      const channel = await google.colab.kernel.comms.open(id);\n",
              "      // Send a message to notify the kernel that we're ready.\n",
              "      channel.send({})\n",
              "\n",
              "      for await (const message of channel.messages) {\n",
              "        // Send a message to notify the kernel that we're ready.\n",
              "        channel.send({})\n",
              "        if (message.buffers) {\n",
              "          for (const buffer of message.buffers) {\n",
              "            buffers.push(buffer);\n",
              "            downloaded += buffer.byteLength;\n",
              "            progress.value = downloaded;\n",
              "          }\n",
              "        }\n",
              "      }\n",
              "      const blob = new Blob(buffers, {type: 'application/binary'});\n",
              "      const a = document.createElement('a');\n",
              "      a.href = window.URL.createObjectURL(blob);\n",
              "      a.download = filename;\n",
              "      div.appendChild(a);\n",
              "      a.click();\n",
              "      div.remove();\n",
              "    }\n",
              "  "
            ]
          },
          "metadata": {}
        },
        {
          "output_type": "display_data",
          "data": {
            "text/plain": [
              "<IPython.core.display.Javascript object>"
            ],
            "application/javascript": [
              "download(\"download_d07c2545-9f36-4292-a941-da602928c570\", \"hoax_detection_lstm.h5\", 9135672)"
            ]
          },
          "metadata": {}
        },
        {
          "output_type": "display_data",
          "data": {
            "text/plain": [
              "<IPython.core.display.Javascript object>"
            ],
            "application/javascript": [
              "\n",
              "    async function download(id, filename, size) {\n",
              "      if (!google.colab.kernel.accessAllowed) {\n",
              "        return;\n",
              "      }\n",
              "      const div = document.createElement('div');\n",
              "      const label = document.createElement('label');\n",
              "      label.textContent = `Downloading \"${filename}\": `;\n",
              "      div.appendChild(label);\n",
              "      const progress = document.createElement('progress');\n",
              "      progress.max = size;\n",
              "      div.appendChild(progress);\n",
              "      document.body.appendChild(div);\n",
              "\n",
              "      const buffers = [];\n",
              "      let downloaded = 0;\n",
              "\n",
              "      const channel = await google.colab.kernel.comms.open(id);\n",
              "      // Send a message to notify the kernel that we're ready.\n",
              "      channel.send({})\n",
              "\n",
              "      for await (const message of channel.messages) {\n",
              "        // Send a message to notify the kernel that we're ready.\n",
              "        channel.send({})\n",
              "        if (message.buffers) {\n",
              "          for (const buffer of message.buffers) {\n",
              "            buffers.push(buffer);\n",
              "            downloaded += buffer.byteLength;\n",
              "            progress.value = downloaded;\n",
              "          }\n",
              "        }\n",
              "      }\n",
              "      const blob = new Blob(buffers, {type: 'application/binary'});\n",
              "      const a = document.createElement('a');\n",
              "      a.href = window.URL.createObjectURL(blob);\n",
              "      a.download = filename;\n",
              "      div.appendChild(a);\n",
              "      a.click();\n",
              "      div.remove();\n",
              "    }\n",
              "  "
            ]
          },
          "metadata": {}
        },
        {
          "output_type": "display_data",
          "data": {
            "text/plain": [
              "<IPython.core.display.Javascript object>"
            ],
            "application/javascript": [
              "download(\"download_8378c782-f95f-42da-8746-324a0fd37a84\", \"hoax_detection_lstm.tflite\", 3047936)"
            ]
          },
          "metadata": {}
        },
        {
          "output_type": "display_data",
          "data": {
            "text/plain": [
              "<IPython.core.display.Javascript object>"
            ],
            "application/javascript": [
              "\n",
              "    async function download(id, filename, size) {\n",
              "      if (!google.colab.kernel.accessAllowed) {\n",
              "        return;\n",
              "      }\n",
              "      const div = document.createElement('div');\n",
              "      const label = document.createElement('label');\n",
              "      label.textContent = `Downloading \"${filename}\": `;\n",
              "      div.appendChild(label);\n",
              "      const progress = document.createElement('progress');\n",
              "      progress.max = size;\n",
              "      div.appendChild(progress);\n",
              "      document.body.appendChild(div);\n",
              "\n",
              "      const buffers = [];\n",
              "      let downloaded = 0;\n",
              "\n",
              "      const channel = await google.colab.kernel.comms.open(id);\n",
              "      // Send a message to notify the kernel that we're ready.\n",
              "      channel.send({})\n",
              "\n",
              "      for await (const message of channel.messages) {\n",
              "        // Send a message to notify the kernel that we're ready.\n",
              "        channel.send({})\n",
              "        if (message.buffers) {\n",
              "          for (const buffer of message.buffers) {\n",
              "            buffers.push(buffer);\n",
              "            downloaded += buffer.byteLength;\n",
              "            progress.value = downloaded;\n",
              "          }\n",
              "        }\n",
              "      }\n",
              "      const blob = new Blob(buffers, {type: 'application/binary'});\n",
              "      const a = document.createElement('a');\n",
              "      a.href = window.URL.createObjectURL(blob);\n",
              "      a.download = filename;\n",
              "      div.appendChild(a);\n",
              "      a.click();\n",
              "      div.remove();\n",
              "    }\n",
              "  "
            ]
          },
          "metadata": {}
        },
        {
          "output_type": "display_data",
          "data": {
            "text/plain": [
              "<IPython.core.display.Javascript object>"
            ],
            "application/javascript": [
              "download(\"download_df792604-f1d8-4eee-a844-b6fa99b36392\", \"tokenizer.pkl\", 1035668)"
            ]
          },
          "metadata": {}
        }
      ]
    },
    {
      "cell_type": "markdown",
      "source": [
        "# Testing"
      ],
      "metadata": {
        "id": "OSjGQC8-3IUa"
      }
    },
    {
      "cell_type": "code",
      "source": [
        "import pickle\n",
        "import tensorflow as tf\n",
        "from keras.preprocessing.sequence import pad_sequences\n",
        "\n",
        "# Memuat Tokenizer dari file Pickle\n",
        "with open('tokenizer.pkl', 'rb') as f:\n",
        "    tokenizer = pickle.load(f)\n",
        "\n",
        "# Memuat Model TFLite\n",
        "interpreter = tf.lite.Interpreter(model_path='hoax_detection_lstm.tflite')\n",
        "interpreter.allocate_tensors()\n",
        "\n",
        "# Mendapatkan informasi tensor input dan output\n",
        "input_details = interpreter.get_input_details()\n",
        "output_details = interpreter.get_output_details()\n",
        "\n",
        "# Teks baru yang ingin diprediksi\n",
        "# news_text = [\"Ketua Umum Partai Gerindra Prabowo Subianto mempromosikan produk sprei. Dalam video tersebut, Prabowo mengatakan akan membagikan ribuan sprei karena berhasil menang satu putaran dalam Pemilihan Presiden (Pilpres) 2024.\"]\n",
        "# news_text = [\"JAKARTA, KOMPAS.com - Dewan Kehormatan Penyelenggara Pemilu (DKPP) belum menjadwalkan sidang terhadap aduan soal dugaan perbuatan asusila oleh Ketua KPU RI Hasyim Asy'ari terhadap anggota Panitia Pemilihan Luar Negeri (PPLN) yang bertugas di Eropa.Ketua DKPP Heddy Lugito berujar, kasus itu masih diverifikasi oleh DKPP, tahapan yang memang perlu ditempuh sebelum suatu aduan diregistrasi menjadi perkara yang dibawa ke meja hijau.Sekarang masih dilakukan verifikasi administrasi dan materi. Belum dijadwalkan sidang.Semuanya masih berproses, sebut dia kepada wartawan, Selasa (23/4/2024).Baca juga: Ketua KPU Diadukan Lagi ke DKPP, Diduga Goda Anggota PPLNHeddy menambahkan, bukan hanya kasus Hasyim, sejumlah aduan pelanggaran kode etik dan perilaku penyelenggara pemilu belum dijadwalkan sidang.Penyebabnya, DKPP menerima amat banyak aduan berkaitan dengan pelanggaran kode etik dan perilaku penyelenggara pemilu pada waktu sekitar helatan Pemilu 2024.Selama empat bulan terakhir pengaduan yang masuk ke DKPP jumlah mencapai 200 perkara ucap Heddy.Baru 91 perkara yang dijadwalkan sidang, imbuhnya.Dalam aduan terhadap Hasyim, komisioner KPU RI 2 periode itu disebut menggunakan relasi kuasa untuk mendekati, membina hubungan romantis, dan berbuat asusila.Cerita pertama kali ketemu itu di Agustus 2023, itu sebenarnya juga dalam konteks kunjungan dinas. Itu pertama kali bertemu, hingga terakhir kali peristiwa terjadi di bulan Maret 2024, kata kuasa hukum korban sekaligus pengadu, Maria Dianita Prosperiani, setelah pengaduan ke DKPP.Keduanya disebut beberapa kali bertemu, baik saat Hasyim melakukan kunjungan dinas ke Eropa, atau sebaliknya saat korban melakukan kunjungan dinas ke dalam negeri.Kuasa hukum lainnya, Aristo Pangaribuan, menyebut bahwa dalam keadaan keduanya terpisah jarak, terdapat upaya aktif dari Hasyim secara terus-menerus untuk menjangkau korban.Hubungan romantis, merayu, mendekati untuk nafsu pribadinya, kata Aristo.Namun, menurutnya, tidak ada intimidasi maupun ancaman dalam dugaan pemanfaatan relasi kuasa yang disebut dilakukan oleh Hasyim.Pengacara juga enggan menjawab secara tegas apakah perbuatan asusila yang dimaksud juga mencakup pelecehan seksual atau tidak.Korban disebut butuh waktu untuk mengumpulkan keberanian membuat aduan semacam ini. Pengacara membantah korban memiliki motif politik di balik aduan ini.\"]\n",
        "# news_text = [\"Beredar sebuah unggahan di media sosial Facebook yang mengeklaim Ketua Umum Partai Gerindra Prabowo Subianto mempromosikan produk sprei. Dalam video tersebut, Prabowo mengatakan akan membagikan ribuan sprei karena berhasil menang satu putaran dalam Pemilihan Presiden (Pilpres) 2024. Faktanya, dilansir dari kompas.com, video yang menampilkan Prabowo sedang memberikan keterangan pers identik dengan yang ada di kanal YouTube Kompas TV. Dalam video aslinya, Prabowo mengucapkan terima kasih ke berbagai pihak yang turut menyukseskan berlangsungnya Debat Pilpres 2024. Menurut Prabowo, adanya debat pilpres merupakan upaya mencari pemikiran dan gagasan yang terbaik untuk Indonesia, meski kadang kala para pasangan calon yang berkompetisi berbeda pendapat.\"]\n",
        "news_text = [\"Presiden Joko Widodo atau Jokowi mengecam keras serangan Israel ke Kota Rafah, Gaza Selatan, Palestina. Serangan Israel ini menewaskan puluhan warga, termasuk anak-anak. Meskipun sudah berkali-kali saya sampaikan, tapi saya ingin mengulang lagi bahwa Indonesia mengecam keras serangan Israel ke Rafah kata Jokowi di Kota Dumai, Riau, Sabtu (1/6/2024). Dia meminta Israel untuk menataati perintah dari Mahkamah Internasional. Termasuk, menghentikan serangan ke Kota Rafah, Gaza, Palestina. Dan Israel mestinya memiliki kewajiban untuk mentaati mahkamah internasional, termasuk penghentian serangan ke Palestina jelasnya. Sebelumnya, para hakim di pengadilan tinggi PBB atau International Court of Justice (ICJ) memerintahkan Israel untuk menghentikan serangannya di kota Rafah, Gaza selatan. ICJ juga memerintahkan Israel menarik diri dari daerah tersebut. Putusan ini juga terkait dengan tuntutan yang diajukan oleh Afrika Selatan. Afsel menyebut Israel melakukan genosida, dengan alasan risiko besar terhadap penduduk Palestina. Keputusan pada Jumat (24/5/2024) ini menandai ketiga kalinya tahun ini panel beranggotakan 15 hakim itu mengeluarkan perintah awal yang berupaya mengendalikan jumlah korban tewas dan meringankan penderitaan kemanusiaan di Gaza. Meskipun perintah tersebut mengikat secara hukum, pengadilan tidak memiliki polisi untuk menegakkannya, dikutip dari laman Al Jazeera, Jumat (24/5).\"]\n",
        "\n",
        "# Tokenisasi dan padding teks baru\n",
        "new_sequences = tokenizer.texts_to_sequences(news_text)\n",
        "max_len = 200  # Pastikan panjang maksimum sesuai dengan yang digunakan saat melatih model\n",
        "new_padded = pad_sequences(new_sequences, maxlen=max_len)\n",
        "\n",
        "# Konversi data input menjadi tipe float32\n",
        "new_padded = new_padded.astype('float32')\n",
        "\n",
        "# Mengatur tensor input dengan data yang dipadatkan\n",
        "interpreter.set_tensor(input_details[0]['index'], new_padded)\n",
        "\n",
        "# Menjalankan interpreter untuk membuat prediksi\n",
        "interpreter.invoke()\n",
        "\n",
        "# Mendapatkan hasil prediksi dari tensor output\n",
        "predictions_tflite = interpreter.get_tensor(output_details[0]['index'])\n",
        "\n",
        "# Menginterpretasikan hasil prediksi\n",
        "predicted_labels_tflite = [1 if pred > 0.5 else 0 for pred in predictions_tflite]\n",
        "\n",
        "# Menampilkan hasil prediksi\n",
        "for text, pred, label in zip(news_text, predictions_tflite, predicted_labels_tflite):\n",
        "    print(f'Text: {text}')\n",
        "    print(f'Prediction: {pred[0]:.4f}')\n",
        "    print(f'Predicted Label: {\"Hoax\" if label == 1 else \"Not Hoax\"}')"
      ],
      "metadata": {
        "colab": {
          "base_uri": "https://localhost:8080/"
        },
        "id": "zgewrd0L3J-h",
        "outputId": "d15515e8-daff-4ecf-f5b6-6c08d6233ea3"
      },
      "execution_count": 68,
      "outputs": [
        {
          "output_type": "stream",
          "name": "stdout",
          "text": [
            "Text: Presiden Joko Widodo atau Jokowi mengecam keras serangan Israel ke Kota Rafah, Gaza Selatan, Palestina. Serangan Israel ini menewaskan puluhan warga, termasuk anak-anak. Meskipun sudah berkali-kali saya sampaikan, tapi saya ingin mengulang lagi bahwa Indonesia mengecam keras serangan Israel ke Rafah kata Jokowi di Kota Dumai, Riau, Sabtu (1/6/2024). Dia meminta Israel untuk menataati perintah dari Mahkamah Internasional. Termasuk, menghentikan serangan ke Kota Rafah, Gaza, Palestina. Dan Israel mestinya memiliki kewajiban untuk mentaati mahkamah internasional, termasuk penghentian serangan ke Palestina jelasnya. Sebelumnya, para hakim di pengadilan tinggi PBB atau International Court of Justice (ICJ) memerintahkan Israel untuk menghentikan serangannya di kota Rafah, Gaza selatan. ICJ juga memerintahkan Israel menarik diri dari daerah tersebut. Putusan ini juga terkait dengan tuntutan yang diajukan oleh Afrika Selatan. Afsel menyebut Israel melakukan genosida, dengan alasan risiko besar terhadap penduduk Palestina. Keputusan pada Jumat (24/5/2024) ini menandai ketiga kalinya tahun ini panel beranggotakan 15 hakim itu mengeluarkan perintah awal yang berupaya mengendalikan jumlah korban tewas dan meringankan penderitaan kemanusiaan di Gaza. Meskipun perintah tersebut mengikat secara hukum, pengadilan tidak memiliki polisi untuk menegakkannya, dikutip dari laman Al Jazeera, Jumat (24/5).\n",
            "Prediction: 0.0000\n",
            "Predicted Label: Not Hoax\n"
          ]
        }
      ]
    }
  ]
}